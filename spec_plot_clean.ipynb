{
 "cells": [
  {
   "cell_type": "code",
   "execution_count": 1,
   "metadata": {},
   "outputs": [],
   "source": [
    "import numpy as np\n",
    "import matplotlib.pyplot as plt\n",
    "import matplotlib.gridspec as gridspec\n",
    "%matplotlib inline\n",
    "import palettable\n",
    "\n",
    "from matplotlib import rc\n",
    "rc('text', usetex=True)\n",
    "font = {'family' : 'serif',\n",
    "        'weight' : 'bold',\n",
    "        'size'   : '14'}\n",
    "rc('font', **font)"
   ]
  },
  {
   "cell_type": "code",
   "execution_count": 4,
   "metadata": {},
   "outputs": [],
   "source": [
    "\n",
    "def loaddata_resid(in1=321):\n",
    "    in_data='%i_out.txt' %in1\n",
    "    in_resid='%i_resid.txt' %in1\n",
    "    \n",
    "    \n",
    "    spec=np.transpose(np.loadtxt(in_data))\n",
    "    \n",
    "    resid=np.transpose(np.loadtxt(in_resid))\n",
    "    \n",
    "    energy=spec[0]\n",
    "    energy_err=spec[1]\n",
    "    inten=spec[2]\n",
    "    inten_err=spec[3]\n",
    "    model=spec[4]\n",
    "    \n",
    "    resid_x=resid[0]\n",
    "    residx_err=resid[1]\n",
    "    resid_y=resid[2]\n",
    "    residy_err=resid[3]\n",
    "\n",
    "  \n",
    "    \n",
    "    return energy, energy_err, inten, inten_err, model, resid_x, residx_err, resid_y, residy_err\n",
    "    \n",
    "    "
   ]
  },
  {
   "cell_type": "code",
   "execution_count": 3,
   "metadata": {},
   "outputs": [],
   "source": []
  },
  {
   "cell_type": "code",
   "execution_count": 5,
   "metadata": {},
   "outputs": [],
   "source": [
    "energy_321, en_er_321, inten_321, inten_er_321, model_321, \\\n",
    "residx_321, residxer_321, residy_321, residyerr_321=loaddata_resid()"
   ]
  },
  {
   "cell_type": "code",
   "execution_count": 7,
   "metadata": {},
   "outputs": [
    {
     "data": {
      "image/png": "[encoded data removed]",
      "text/plain": [
       "<Figure size 432x288 with 2 Axes>"
      ]
     },
     "metadata": {},
     "output_type": "display_data"
    }
   ],
   "source": [
    "#plt.subplot(211)\n",
    "plt.subplot2grid((3,1),(0,0),rowspan=2)\n",
    "plt.errorbar(energy_321,inten_321, xerr=en_er_321, yerr=inten_er_321,  fmt='.', color=palettable.cubehelix.cubehelix3_16.mpl_colors[4])\n",
    "plt.plot(energy_321, model_321, '--', color=palettable.cubehelix.cubehelix3_16.mpl_colors[6])\n",
    "plt.ylim(2e-6, 5e-1)\n",
    "#plt.gca().axes.get_yaxis().set_visible(False)\n",
    "plt.xlim(0.2, 11)\n",
    "#plt.gca().axes.set_yticklabels([]) # To get rid of tick labels but not ticks\n",
    "plt.minorticks_on() \n",
    "plt.tick_params(axis='y', which='major', labelsize=14)    # To set tick label fontsize\n",
    "plt.tick_params(axis='y', which='major', length=9)        # To set tick size\n",
    "plt.tick_params(axis='y', which='minor', length=4.5)      # To set tick size\n",
    "plt.tick_params(axis='y', which='both',direction='in',right='on', top='on') \n",
    "plt.yscale('log')\n",
    "plt.ylabel('Normalized Counts \\n s$^{-1}$ keV$^{-1}$')\n",
    "plt.tick_params(axis='x', which='both',direction='in',right='on', top='on') \n",
    "\n",
    "plt.tick_params(axis='x', which='major', length=10)        # To set tick size\n",
    "plt.tick_params(axis='x', which='minor', length=5)   \n",
    "plt.xscale('log')\n",
    "plt.tick_params(axis='x', which='both',direction='in',right='on', top='on') \n",
    "\n",
    "plt.tick_params(axis='x', which='major', length=10)        # To set tick size\n",
    "plt.tick_params(axis='x', which='minor', length=5)   \n",
    "plt.gca().axes.set_xticklabels([])\n",
    "\n",
    "#plt.subplot(212)\n",
    "plt.subplot2grid((3,1),(2,0))\n",
    "\n",
    "\n",
    "plt.ylabel('$\\chi$')\n",
    "plt.errorbar(residx_321, residy_321, xerr=residxer_321, yerr=residyerr_321,  fmt='.', color=palettable.cubehelix.cubehelix3_16.mpl_colors[4])\n",
    "#plt.gca().axes.set_xticklabels([]) # To get rid of tick labels but not ticks\n",
    "plt.minorticks_on() \n",
    "plt.tick_params(axis='y', which='major', labelsize=14)    # To set tick label fontsize\n",
    "plt.tick_params(axis='y', which='major', length=9)        # To set tick size\n",
    "plt.tick_params(axis='y', which='minor', length=4.5)      # To set tick size\n",
    "plt.tick_params(axis='y', which='both',direction='in',right='on', top='on')  \n",
    "plt.ylim(-3,3)\n",
    "plt.tick_params(axis='x', which='both',direction='in',right='on', top='on') \n",
    "\n",
    "plt.tick_params(axis='x', which='major', length=10)        # To set tick size\n",
    "plt.tick_params(axis='x', which='minor', length=5)   \n",
    "plt.xlim(0.2, 11)\n",
    "plt.axhline(y=0, color='k')\n",
    "plt.subplots_adjust(hspace=0)\n",
    "#plt.tight_layout()\n",
    "#plt.gcf().subplots_adjust(bottom=0.15)\n",
    "plt.xscale('log')\n",
    "plt.tick_params(axis='x', which='both',direction='in',right='on', top='on') \n",
    "\n",
    "plt.tick_params(axis='x', which='major', length=10)        # To set tick size\n",
    "plt.tick_params(axis='x', which='minor', length=5)   \n",
    "plt.xlabel('Energy (keV)')\n",
    "plt.savefig('chandra_spec_resid_321.pdf', bbox_inches='tight')"
   ]
  },
  {
   "cell_type": "code",
   "execution_count": null,
   "metadata": {},
   "outputs": [],
   "source": []
  }
 ],
 "metadata": {
  "kernelspec": {
   "display_name": "Python 2",
   "language": "python",
   "name": "python2"
  },
  "language_info": {
   "codemirror_mode": {
    "name": "ipython",
    "version": 2
   },
   "file_extension": ".py",
   "mimetype": "text/x-python",
   "name": "python",
   "nbconvert_exporter": "python",
   "pygments_lexer": "ipython2",
   "version": "2.7.15"
  }
 },
 "nbformat": 4,
 "nbformat_minor": 2
}
